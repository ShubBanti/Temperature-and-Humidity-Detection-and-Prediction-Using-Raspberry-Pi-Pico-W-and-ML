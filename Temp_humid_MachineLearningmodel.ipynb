{
  "nbformat": 4,
  "nbformat_minor": 0,
  "metadata": {
    "colab": {
      "provenance": []
    },
    "kernelspec": {
      "name": "python3",
      "display_name": "Python 3"
    },
    "language_info": {
      "name": "python"
    }
  },
  "cells": [
    {
      "cell_type": "markdown",
      "source": [
        "#Predicting Humidity From Temperature"
      ],
      "metadata": {
        "id": "FVrBuDqbQ8jN"
      }
    },
    {
      "cell_type": "code",
      "execution_count": null,
      "metadata": {
        "colab": {
          "base_uri": "https://localhost:8080/"
        },
        "id": "ZGEfbIm3NIwD",
        "outputId": "0e8ae3c5-dfef-4068-9d55-009e48e008dd"
      },
      "outputs": [
        {
          "output_type": "stream",
          "name": "stdout",
          "text": [
            "New temperature: 29\n",
            "New humidity: 71.30411764705882\n"
          ]
        }
      ],
      "source": [
        "import requests\n",
        "from sklearn.linear_model import LinearRegression\n",
        "import pandas as pd\n",
        "import numpy as np\n",
        "\n",
        "# Get the data from ThingSpeak\n",
        "response = requests.get('https://api.thingspeak.com/channels/2377904/feed.json')\n",
        "\n",
        "# Parse the data into a JSON object\n",
        "data = response.json()\n",
        "\n",
        "# Extract the temperature and humidity values\n",
        "temperature = [d['field1'] for d in data['feeds']]\n",
        "humidity = [d['field2'] for d in data['feeds']]\n",
        "temperature = pd.DataFrame(temperature)\n",
        "humidity = pd.DataFrame(humidity)\n",
        "\n",
        "# Create a linear regression model\n",
        "model = LinearRegression()\n",
        "\n",
        "# Fit the model to the data\n",
        "model.fit(temperature, humidity)\n",
        "\n",
        "# Make predictions for new data\n",
        "new_temperature = 29\n",
        "new_temperature = np.array([[new_temperature]])\n",
        "new_humidity = model.predict(new_temperature)\n",
        "\n",
        "# Print the predictions\n",
        "print('New temperature:', new_temperature[0][0])\n",
        "print('New humidity:', new_humidity[0][0])"
      ]
    },
    {
      "cell_type": "markdown",
      "source": [
        "#Predicting Temperature From Humidity"
      ],
      "metadata": {
        "id": "FQgNgUmPRHD7"
      }
    },
    {
      "cell_type": "code",
      "source": [
        "import requests\n",
        "from sklearn.linear_model import LinearRegression\n",
        "import pandas as pd\n",
        "import numpy as np\n",
        "# Get the data from ThingSpeak\n",
        "response = requests.get('https://api.thingspeak.com/channels/2377904/feed.json')\n",
        "\n",
        "# Parse the data into a JSON object\n",
        "data = response.json()\n",
        "\n",
        "# Extract the temperature and humidity values\n",
        "temperature = [d['field1'] for d in data['feeds']]\n",
        "humidity = [d['field2'] for d in data['feeds']]\n",
        "temperature = pd.DataFrame(temperature)\n",
        "humidity = pd.DataFrame(humidity)\n",
        "# Create a linear regression model\n",
        "model = LinearRegression()\n",
        "# Fit the model to the data\n",
        "# model.fit(temperature, humidity)\n",
        "model.fit(humidity,temperature)\n",
        "\n",
        "# Make predictions for new data\n",
        "new_humidity = 72\n",
        "new_humidity = np.array([[new_humidity]])\n",
        "new_temperature = model.predict(new_humidity)\n",
        "\n",
        "# Print the predictions\n",
        "print('New temperature:', new_temperature[0][0])\n",
        "print('New humidity:', new_humidity[0][0])"
      ],
      "metadata": {
        "colab": {
          "base_uri": "https://localhost:8080/"
        },
        "id": "ZhU4oS2RQnbY",
        "outputId": "8a52b902-6bde-41fe-c351-10a1742b8c89"
      },
      "execution_count": null,
      "outputs": [
        {
          "output_type": "stream",
          "name": "stdout",
          "text": [
            "New temperature: 28.500000000000007\n",
            "New humidity: 72\n"
          ]
        }
      ]
    },
    {
      "cell_type": "markdown",
      "source": [
        "#PREDICTION Acording to the temperature"
      ],
      "metadata": {
        "id": "sGug95arWyVA"
      }
    },
    {
      "cell_type": "code",
      "source": [
        "import requests\n",
        "from sklearn.linear_model import LinearRegression\n",
        "import pandas as pd\n",
        "import numpy as np\n",
        "\n",
        "# Get the data from ThingSpeak\n",
        "response = requests.get('https://api.thingspeak.com/channels/2377904/feed.json')\n",
        "\n",
        "# Parse the data into a JSON object\n",
        "data = response.json()\n",
        "\n",
        "# Extract the temperature and humidity values\n",
        "temperature = [d['field1'] for d in data['feeds']]\n",
        "humidity = [d['field2'] for d in data['feeds']]\n",
        "temperature = pd.DataFrame(temperature)\n",
        "humidity = pd.DataFrame(humidity)\n",
        "# Create a linear regression model\n",
        "model = LinearRegression()\n",
        "# Fit the model to the data\n",
        "# model.fit(temperature, humidity)\n",
        "model.fit(humidity,temperature)\n",
        "\n",
        "# Make predictions for new data\n",
        "humidity_range = np.arange(70, 80, 0.1)\n",
        "humidity_range = humidity_range.reshape(-1,1)\n",
        "new_temperature = model.predict(humidity_range)\n",
        "\n",
        "# Print the predictions\n",
        "# print('New temperature:', new_temperature)\n",
        "# print('New humidity:', humidity_range)\n",
        "\n",
        "import matplotlib.pyplot as plt\n",
        "%matplotlib inline\n",
        "\n",
        "plt.plot(humidity_range,new_temperature,color='blue')\n",
        "plt.xlabel('Humidity')\n",
        "plt.ylabel('Temperature')\n",
        "plt.show()"
      ],
      "metadata": {
        "colab": {
          "base_uri": "https://localhost:8080/",
          "height": 449
        },
        "id": "8kWuPqJ0WaKs",
        "outputId": "677b8fb6-a21d-41f6-b481-071cd34966ca"
      },
      "execution_count": null,
      "outputs": [
        {
          "output_type": "display_data",
          "data": {
            "text/plain": [
              "<Figure size 640x480 with 1 Axes>"
            ],
            "image/png": "[encoded data removed]"
          },
          "metadata": {}
        }
      ]
    }
  ]
}